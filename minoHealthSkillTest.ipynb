{
 "cells": [
  {
   "cell_type": "markdown",
   "metadata": {
    "id": "dudYX2QIbAac"
   },
   "source": [
    "This project starts with me linking a copy of the dataset from minoHealth to colab through my google drive."
   ]
  },
  {
   "cell_type": "code",
   "execution_count": 1,
   "metadata": {
    "colab": {
     "base_uri": "https://localhost:8080/"
    },
    "executionInfo": {
     "elapsed": 31039,
     "status": "ok",
     "timestamp": 1658859222592,
     "user": {
      "displayName": "Gyabeng Elton Modestus",
      "userId": "12447059696211325427"
     },
     "user_tz": 0
    },
    "id": "9ELbXCBAas98",
    "outputId": "31109b15-124e-41f4-affc-a9d631d14310"
   },
   "outputs": [],
   "source": [
    "# from google.colab import drive\n",
    "# drive.mount(\"/content/drive\")"
   ]
  },
  {
   "cell_type": "code",
   "execution_count": 2,
   "metadata": {},
   "outputs": [
    {
     "name": "stdout",
     "output_type": "stream",
     "text": [
      "/home/gemcorp\r\n"
     ]
    }
   ],
   "source": [
    "!pwd"
   ]
  },
  {
   "cell_type": "code",
   "execution_count": 3,
   "metadata": {
    "id": "o0e6AeP8f9_w"
   },
   "outputs": [],
   "source": [
    "dataset_directory = \"/home/gemcorp/AB_NYC_2019.csv\" #will load NYC_AirBnB_2019 dataset this time"
   ]
  },
  {
   "cell_type": "markdown",
   "metadata": {
    "id": "XYi7i-lwmwOc"
   },
   "source": [
    "# Introduction\n",
    "After a manual inspection of the shared dataset, it seems to be a dataset of a room sharing system. This kernel starts with cleaning of the data and then some EDA to \n",
    "\n",
    "*   confirm my intuitions of the kind of dataset\n",
    "*   get intuitions on what kind of model will suit the dataset "
   ]
  },
  {
   "cell_type": "markdown",
   "metadata": {
    "id": "4qCnBpK_oJtt"
   },
   "source": [
    "# Importing libraries for data cleaning and EDA"
   ]
  },
  {
   "cell_type": "code",
   "execution_count": 4,
   "metadata": {},
   "outputs": [
    {
     "name": "stdout",
     "output_type": "stream",
     "text": [
      "Defaulting to user installation because normal site-packages is not writeable\n",
      "Requirement already satisfied: matplotlib in ./.local/lib/python3.10/site-packages (3.7.2)\n",
      "Requirement already satisfied: seaborn in ./.local/lib/python3.10/site-packages (0.12.2)\n",
      "Requirement already satisfied: numpy>=1.20 in /usr/lib/python3/dist-packages (from matplotlib) (1.21.5)\n",
      "Requirement already satisfied: python-dateutil>=2.7 in /usr/local/lib/python3.10/dist-packages (from matplotlib) (2.8.2)\n",
      "Requirement already satisfied: fonttools>=4.22.0 in ./.local/lib/python3.10/site-packages (from matplotlib) (4.42.1)\n",
      "Requirement already satisfied: pillow>=6.2.0 in /usr/lib/python3/dist-packages (from matplotlib) (9.0.1)\n",
      "Requirement already satisfied: contourpy>=1.0.1 in ./.local/lib/python3.10/site-packages (from matplotlib) (1.1.0)\n",
      "Requirement already satisfied: packaging>=20.0 in /usr/lib/python3/dist-packages (from matplotlib) (21.3)\n",
      "Requirement already satisfied: pyparsing<3.1,>=2.3.1 in /usr/lib/python3/dist-packages (from matplotlib) (2.4.7)\n",
      "Requirement already satisfied: kiwisolver>=1.0.1 in ./.local/lib/python3.10/site-packages (from matplotlib) (1.4.4)\n",
      "Requirement already satisfied: cycler>=0.10 in ./.local/lib/python3.10/site-packages (from matplotlib) (0.11.0)\n",
      "Requirement already satisfied: pandas>=0.25 in /usr/lib/python3/dist-packages (from seaborn) (1.3.5)\n",
      "Requirement already satisfied: six>=1.5 in /usr/lib/python3/dist-packages (from python-dateutil>=2.7->matplotlib) (1.16.0)\n"
     ]
    }
   ],
   "source": [
    "!pip install matplotlib seaborn"
   ]
  },
  {
   "cell_type": "code",
   "execution_count": 54,
   "metadata": {},
   "outputs": [],
   "source": [
    "# !pip install scikit-learn"
   ]
  },
  {
   "cell_type": "code",
   "execution_count": 5,
   "metadata": {
    "id": "8p3ZvChXofcd"
   },
   "outputs": [],
   "source": [
    "import pandas as pd\n",
    "import numpy as np\n",
    "import matplotlib.pyplot as plt\n",
    "import matplotlib.image as mpimg\n",
    "import seaborn as sb"
   ]
  },
  {
   "cell_type": "markdown",
   "metadata": {
    "id": "FprOZRjfpz50"
   },
   "source": [
    "# Loading the dataset"
   ]
  },
  {
   "cell_type": "code",
   "execution_count": 6,
   "metadata": {
    "id": "T_Nrkk-hp434"
   },
   "outputs": [],
   "source": [
    "minoH_data = pd.read_csv(dataset_directory)"
   ]
  },
  {
   "cell_type": "markdown",
   "metadata": {
    "id": "rby3Ki_Vqq3K"
   },
   "source": [
    "# Examining content of the data"
   ]
  },
  {
   "cell_type": "code",
   "execution_count": 7,
   "metadata": {
    "colab": {
     "base_uri": "https://localhost:8080/"
    },
    "executionInfo": {
     "elapsed": 87,
     "status": "ok",
     "timestamp": 1658859224112,
     "user": {
      "displayName": "Gyabeng Elton Modestus",
      "userId": "12447059696211325427"
     },
     "user_tz": 0
    },
    "id": "zzIvXK3MsDnH",
    "outputId": "59438dc8-8251-4477-e13a-1ff8f9e284f2"
   },
   "outputs": [
    {
     "data": {
      "text/plain": [
       "(48895, 16)"
      ]
     },
     "execution_count": 7,
     "metadata": {},
     "output_type": "execute_result"
    }
   ],
   "source": [
    "minoH_data.shape"
   ]
  },
  {
   "cell_type": "code",
   "execution_count": 8,
   "metadata": {
    "colab": {
     "base_uri": "https://localhost:8080/"
    },
    "executionInfo": {
     "elapsed": 73,
     "status": "ok",
     "timestamp": 1658859224114,
     "user": {
      "displayName": "Gyabeng Elton Modestus",
      "userId": "12447059696211325427"
     },
     "user_tz": 0
    },
    "id": "F9VmIqVotvH6",
    "outputId": "b62ba116-b364-462e-b179-a60101a72fea"
   },
   "outputs": [
    {
     "name": "stdout",
     "output_type": "stream",
     "text": [
      "<class 'pandas.core.frame.DataFrame'>\n",
      "RangeIndex: 48895 entries, 0 to 48894\n",
      "Data columns (total 16 columns):\n",
      " #   Column                          Non-Null Count  Dtype  \n",
      "---  ------                          --------------  -----  \n",
      " 0   id                              48895 non-null  int64  \n",
      " 1   name                            48879 non-null  object \n",
      " 2   host_id                         48895 non-null  int64  \n",
      " 3   host_name                       48874 non-null  object \n",
      " 4   neighbourhood_group             48895 non-null  object \n",
      " 5   neighbourhood                   48895 non-null  object \n",
      " 6   latitude                        48895 non-null  float64\n",
      " 7   longitude                       48895 non-null  float64\n",
      " 8   room_type                       48895 non-null  object \n",
      " 9   price                           48895 non-null  int64  \n",
      " 10  minimum_nights                  48895 non-null  int64  \n",
      " 11  number_of_reviews               48895 non-null  int64  \n",
      " 12  last_review                     38843 non-null  object \n",
      " 13  reviews_per_month               38843 non-null  float64\n",
      " 14  calculated_host_listings_count  48895 non-null  int64  \n",
      " 15  availability_365                48895 non-null  int64  \n",
      "dtypes: float64(3), int64(7), object(6)\n",
      "memory usage: 6.0+ MB\n"
     ]
    }
   ],
   "source": [
    "minoH_data.info()"
   ]
  },
  {
   "cell_type": "code",
   "execution_count": 9,
   "metadata": {
    "colab": {
     "base_uri": "https://localhost:8080/",
     "height": 461
    },
    "executionInfo": {
     "elapsed": 58,
     "status": "ok",
     "timestamp": 1658859224114,
     "user": {
      "displayName": "Gyabeng Elton Modestus",
      "userId": "12447059696211325427"
     },
     "user_tz": 0
    },
    "id": "Kx20T9kZum46",
    "outputId": "bb090775-94d5-4c93-9bfe-75b7a4144b5f"
   },
   "outputs": [
    {
     "data": {
      "text/html": [
       "<div>\n",
       "<style scoped>\n",
       "    .dataframe tbody tr th:only-of-type {\n",
       "        vertical-align: middle;\n",
       "    }\n",
       "\n",
       "    .dataframe tbody tr th {\n",
       "        vertical-align: top;\n",
       "    }\n",
       "\n",
       "    .dataframe thead th {\n",
       "        text-align: right;\n",
       "    }\n",
       "</style>\n",
       "<table border=\"1\" class=\"dataframe\">\n",
       "  <thead>\n",
       "    <tr style=\"text-align: right;\">\n",
       "      <th></th>\n",
       "      <th>id</th>\n",
       "      <th>name</th>\n",
       "      <th>host_id</th>\n",
       "      <th>host_name</th>\n",
       "      <th>neighbourhood_group</th>\n",
       "      <th>neighbourhood</th>\n",
       "      <th>latitude</th>\n",
       "      <th>longitude</th>\n",
       "      <th>room_type</th>\n",
       "      <th>price</th>\n",
       "      <th>minimum_nights</th>\n",
       "      <th>number_of_reviews</th>\n",
       "      <th>last_review</th>\n",
       "      <th>reviews_per_month</th>\n",
       "      <th>calculated_host_listings_count</th>\n",
       "      <th>availability_365</th>\n",
       "    </tr>\n",
       "  </thead>\n",
       "  <tbody>\n",
       "    <tr>\n",
       "      <th>0</th>\n",
       "      <td>2539</td>\n",
       "      <td>Clean &amp; quiet apt home by the park</td>\n",
       "      <td>2787</td>\n",
       "      <td>John</td>\n",
       "      <td>Brooklyn</td>\n",
       "      <td>Kensington</td>\n",
       "      <td>40.64749</td>\n",
       "      <td>-73.97237</td>\n",
       "      <td>Private room</td>\n",
       "      <td>149</td>\n",
       "      <td>1</td>\n",
       "      <td>9</td>\n",
       "      <td>2018-10-19</td>\n",
       "      <td>0.21</td>\n",
       "      <td>6</td>\n",
       "      <td>365</td>\n",
       "    </tr>\n",
       "    <tr>\n",
       "      <th>1</th>\n",
       "      <td>2595</td>\n",
       "      <td>Skylit Midtown Castle</td>\n",
       "      <td>2845</td>\n",
       "      <td>Jennifer</td>\n",
       "      <td>Manhattan</td>\n",
       "      <td>Midtown</td>\n",
       "      <td>40.75362</td>\n",
       "      <td>-73.98377</td>\n",
       "      <td>Entire home/apt</td>\n",
       "      <td>225</td>\n",
       "      <td>1</td>\n",
       "      <td>45</td>\n",
       "      <td>2019-05-21</td>\n",
       "      <td>0.38</td>\n",
       "      <td>2</td>\n",
       "      <td>355</td>\n",
       "    </tr>\n",
       "    <tr>\n",
       "      <th>2</th>\n",
       "      <td>3647</td>\n",
       "      <td>THE VILLAGE OF HARLEM....NEW YORK !</td>\n",
       "      <td>4632</td>\n",
       "      <td>Elisabeth</td>\n",
       "      <td>Manhattan</td>\n",
       "      <td>Harlem</td>\n",
       "      <td>40.80902</td>\n",
       "      <td>-73.94190</td>\n",
       "      <td>Private room</td>\n",
       "      <td>150</td>\n",
       "      <td>3</td>\n",
       "      <td>0</td>\n",
       "      <td>NaN</td>\n",
       "      <td>NaN</td>\n",
       "      <td>1</td>\n",
       "      <td>365</td>\n",
       "    </tr>\n",
       "    <tr>\n",
       "      <th>3</th>\n",
       "      <td>3831</td>\n",
       "      <td>Cozy Entire Floor of Brownstone</td>\n",
       "      <td>4869</td>\n",
       "      <td>LisaRoxanne</td>\n",
       "      <td>Brooklyn</td>\n",
       "      <td>Clinton Hill</td>\n",
       "      <td>40.68514</td>\n",
       "      <td>-73.95976</td>\n",
       "      <td>Entire home/apt</td>\n",
       "      <td>89</td>\n",
       "      <td>1</td>\n",
       "      <td>270</td>\n",
       "      <td>2019-07-05</td>\n",
       "      <td>4.64</td>\n",
       "      <td>1</td>\n",
       "      <td>194</td>\n",
       "    </tr>\n",
       "    <tr>\n",
       "      <th>4</th>\n",
       "      <td>5022</td>\n",
       "      <td>Entire Apt: Spacious Studio/Loft by central park</td>\n",
       "      <td>7192</td>\n",
       "      <td>Laura</td>\n",
       "      <td>Manhattan</td>\n",
       "      <td>East Harlem</td>\n",
       "      <td>40.79851</td>\n",
       "      <td>-73.94399</td>\n",
       "      <td>Entire home/apt</td>\n",
       "      <td>80</td>\n",
       "      <td>10</td>\n",
       "      <td>9</td>\n",
       "      <td>2018-11-19</td>\n",
       "      <td>0.10</td>\n",
       "      <td>1</td>\n",
       "      <td>0</td>\n",
       "    </tr>\n",
       "  </tbody>\n",
       "</table>\n",
       "</div>"
      ],
      "text/plain": [
       "     id                                              name  host_id  \\\n",
       "0  2539                Clean & quiet apt home by the park     2787   \n",
       "1  2595                             Skylit Midtown Castle     2845   \n",
       "2  3647               THE VILLAGE OF HARLEM....NEW YORK !     4632   \n",
       "3  3831                   Cozy Entire Floor of Brownstone     4869   \n",
       "4  5022  Entire Apt: Spacious Studio/Loft by central park     7192   \n",
       "\n",
       "     host_name neighbourhood_group neighbourhood  latitude  longitude  \\\n",
       "0         John            Brooklyn    Kensington  40.64749  -73.97237   \n",
       "1     Jennifer           Manhattan       Midtown  40.75362  -73.98377   \n",
       "2    Elisabeth           Manhattan        Harlem  40.80902  -73.94190   \n",
       "3  LisaRoxanne            Brooklyn  Clinton Hill  40.68514  -73.95976   \n",
       "4        Laura           Manhattan   East Harlem  40.79851  -73.94399   \n",
       "\n",
       "         room_type  price  minimum_nights  number_of_reviews last_review  \\\n",
       "0     Private room    149               1                  9  2018-10-19   \n",
       "1  Entire home/apt    225               1                 45  2019-05-21   \n",
       "2     Private room    150               3                  0         NaN   \n",
       "3  Entire home/apt     89               1                270  2019-07-05   \n",
       "4  Entire home/apt     80              10                  9  2018-11-19   \n",
       "\n",
       "   reviews_per_month  calculated_host_listings_count  availability_365  \n",
       "0               0.21                               6               365  \n",
       "1               0.38                               2               355  \n",
       "2                NaN                               1               365  \n",
       "3               4.64                               1               194  \n",
       "4               0.10                               1                 0  "
      ]
     },
     "execution_count": 9,
     "metadata": {},
     "output_type": "execute_result"
    }
   ],
   "source": [
    "minoH_data.head(5)"
   ]
  },
  {
   "cell_type": "markdown",
   "metadata": {
    "id": "Qiex9kGQuxlZ"
   },
   "source": [
    "Uaing the info method it can be seen that the dataset contains 16 columns with various data types which can provide a very rich amount of information for data exploration.Also from the head of minoH_data it can be seen already that there are some missing values which will require cleaning and handling of NaN values."
   ]
  },
  {
   "cell_type": "markdown",
   "metadata": {
    "id": "RHNedH1_wbVx"
   },
   "source": [
    "#Understanding and Cleaning The Data\n"
   ]
  },
  {
   "cell_type": "code",
   "execution_count": 10,
   "metadata": {
    "colab": {
     "base_uri": "https://localhost:8080/"
    },
    "executionInfo": {
     "elapsed": 55,
     "status": "ok",
     "timestamp": 1658859224115,
     "user": {
      "displayName": "Gyabeng Elton Modestus",
      "userId": "12447059696211325427"
     },
     "user_tz": 0
    },
    "id": "I-ax-GJqwvQz",
    "outputId": "d57e8f9b-1b71-436e-b1a3-6fc588d23854"
   },
   "outputs": [
    {
     "data": {
      "text/plain": [
       "id                                    0\n",
       "name                                 16\n",
       "host_id                               0\n",
       "host_name                            21\n",
       "neighbourhood_group                   0\n",
       "neighbourhood                         0\n",
       "latitude                              0\n",
       "longitude                             0\n",
       "room_type                             0\n",
       "price                                 0\n",
       "minimum_nights                        0\n",
       "number_of_reviews                     0\n",
       "last_review                       10052\n",
       "reviews_per_month                 10052\n",
       "calculated_host_listings_count        0\n",
       "availability_365                      0\n",
       "dtype: int64"
      ]
     },
     "execution_count": 10,
     "metadata": {},
     "output_type": "execute_result"
    }
   ],
   "source": [
    "# what columns have null values\n",
    "minoH_data.isnull().sum()"
   ]
  },
  {
   "cell_type": "markdown",
   "metadata": {
    "id": "heQ5YCxPzome"
   },
   "source": [
    "It can be seen that name,host_name,last_review and review_per_month have missing values. For a room sharing platform 'name', 'host_name' are irrelevant for analysis and prediction plus they have a host_id to reference them. The dataset as well shows no security threat or military interest and therefore ethical to drop them."
   ]
  },
  {
   "cell_type": "code",
   "execution_count": 11,
   "metadata": {
    "id": "FvNN7lwR4Q7s"
   },
   "outputs": [],
   "source": [
    "minoH_data.drop(['id','name','host_name'], axis=1, inplace=True)"
   ]
  },
  {
   "cell_type": "markdown",
   "metadata": {
    "id": "5CbMRys-5glp"
   },
   "source": [
    "'last_review' will also be irrelevant as the date wont exist when there is no review for the listing. 'review_per_month' will be replaced with zero when not available since it was seen that in such cases 'number_of_review' was zero too."
   ]
  },
  {
   "cell_type": "code",
   "execution_count": 12,
   "metadata": {
    "id": "hCQ8dbo88DMa"
   },
   "outputs": [],
   "source": [
    "minoH_data.drop(['last_review'], axis=1, inplace=True)\n",
    "minoH_data.fillna({'reviews_per_month':0.0}, inplace=True)"
   ]
  },
  {
   "cell_type": "code",
   "execution_count": 13,
   "metadata": {
    "colab": {
     "base_uri": "https://localhost:8080/"
    },
    "executionInfo": {
     "elapsed": 48,
     "status": "ok",
     "timestamp": 1658859224119,
     "user": {
      "displayName": "Gyabeng Elton Modestus",
      "userId": "12447059696211325427"
     },
     "user_tz": 0
    },
    "id": "JaNZaRNO-Frg",
    "outputId": "c86a2e06-2ea8-437c-febe-abde9d21b553"
   },
   "outputs": [
    {
     "data": {
      "text/plain": [
       "host_id                           0\n",
       "neighbourhood_group               0\n",
       "neighbourhood                     0\n",
       "latitude                          0\n",
       "longitude                         0\n",
       "room_type                         0\n",
       "price                             0\n",
       "minimum_nights                    0\n",
       "number_of_reviews                 0\n",
       "reviews_per_month                 0\n",
       "calculated_host_listings_count    0\n",
       "availability_365                  0\n",
       "dtype: int64"
      ]
     },
     "execution_count": 13,
     "metadata": {},
     "output_type": "execute_result"
    }
   ],
   "source": [
    "#review changes\n",
    "minoH_data.isnull().sum()"
   ]
  },
  {
   "cell_type": "code",
   "execution_count": 14,
   "metadata": {
    "colab": {
     "base_uri": "https://localhost:8080/",
     "height": 357
    },
    "executionInfo": {
     "elapsed": 45,
     "status": "ok",
     "timestamp": 1658859224120,
     "user": {
      "displayName": "Gyabeng Elton Modestus",
      "userId": "12447059696211325427"
     },
     "user_tz": 0
    },
    "id": "UzrYUzIh-m8_",
    "outputId": "ef5168ca-ccee-496b-ac6a-4dfe3e25c659"
   },
   "outputs": [
    {
     "data": {
      "text/html": [
       "<div>\n",
       "<style scoped>\n",
       "    .dataframe tbody tr th:only-of-type {\n",
       "        vertical-align: middle;\n",
       "    }\n",
       "\n",
       "    .dataframe tbody tr th {\n",
       "        vertical-align: top;\n",
       "    }\n",
       "\n",
       "    .dataframe thead th {\n",
       "        text-align: right;\n",
       "    }\n",
       "</style>\n",
       "<table border=\"1\" class=\"dataframe\">\n",
       "  <thead>\n",
       "    <tr style=\"text-align: right;\">\n",
       "      <th></th>\n",
       "      <th>host_id</th>\n",
       "      <th>neighbourhood_group</th>\n",
       "      <th>neighbourhood</th>\n",
       "      <th>latitude</th>\n",
       "      <th>longitude</th>\n",
       "      <th>room_type</th>\n",
       "      <th>price</th>\n",
       "      <th>minimum_nights</th>\n",
       "      <th>number_of_reviews</th>\n",
       "      <th>reviews_per_month</th>\n",
       "      <th>calculated_host_listings_count</th>\n",
       "      <th>availability_365</th>\n",
       "    </tr>\n",
       "  </thead>\n",
       "  <tbody>\n",
       "    <tr>\n",
       "      <th>0</th>\n",
       "      <td>2787</td>\n",
       "      <td>Brooklyn</td>\n",
       "      <td>Kensington</td>\n",
       "      <td>40.64749</td>\n",
       "      <td>-73.97237</td>\n",
       "      <td>Private room</td>\n",
       "      <td>149</td>\n",
       "      <td>1</td>\n",
       "      <td>9</td>\n",
       "      <td>0.21</td>\n",
       "      <td>6</td>\n",
       "      <td>365</td>\n",
       "    </tr>\n",
       "    <tr>\n",
       "      <th>1</th>\n",
       "      <td>2845</td>\n",
       "      <td>Manhattan</td>\n",
       "      <td>Midtown</td>\n",
       "      <td>40.75362</td>\n",
       "      <td>-73.98377</td>\n",
       "      <td>Entire home/apt</td>\n",
       "      <td>225</td>\n",
       "      <td>1</td>\n",
       "      <td>45</td>\n",
       "      <td>0.38</td>\n",
       "      <td>2</td>\n",
       "      <td>355</td>\n",
       "    </tr>\n",
       "    <tr>\n",
       "      <th>2</th>\n",
       "      <td>4632</td>\n",
       "      <td>Manhattan</td>\n",
       "      <td>Harlem</td>\n",
       "      <td>40.80902</td>\n",
       "      <td>-73.94190</td>\n",
       "      <td>Private room</td>\n",
       "      <td>150</td>\n",
       "      <td>3</td>\n",
       "      <td>0</td>\n",
       "      <td>0.00</td>\n",
       "      <td>1</td>\n",
       "      <td>365</td>\n",
       "    </tr>\n",
       "    <tr>\n",
       "      <th>3</th>\n",
       "      <td>4869</td>\n",
       "      <td>Brooklyn</td>\n",
       "      <td>Clinton Hill</td>\n",
       "      <td>40.68514</td>\n",
       "      <td>-73.95976</td>\n",
       "      <td>Entire home/apt</td>\n",
       "      <td>89</td>\n",
       "      <td>1</td>\n",
       "      <td>270</td>\n",
       "      <td>4.64</td>\n",
       "      <td>1</td>\n",
       "      <td>194</td>\n",
       "    </tr>\n",
       "    <tr>\n",
       "      <th>4</th>\n",
       "      <td>7192</td>\n",
       "      <td>Manhattan</td>\n",
       "      <td>East Harlem</td>\n",
       "      <td>40.79851</td>\n",
       "      <td>-73.94399</td>\n",
       "      <td>Entire home/apt</td>\n",
       "      <td>80</td>\n",
       "      <td>10</td>\n",
       "      <td>9</td>\n",
       "      <td>0.10</td>\n",
       "      <td>1</td>\n",
       "      <td>0</td>\n",
       "    </tr>\n",
       "  </tbody>\n",
       "</table>\n",
       "</div>"
      ],
      "text/plain": [
       "   host_id neighbourhood_group neighbourhood  latitude  longitude  \\\n",
       "0     2787            Brooklyn    Kensington  40.64749  -73.97237   \n",
       "1     2845           Manhattan       Midtown  40.75362  -73.98377   \n",
       "2     4632           Manhattan        Harlem  40.80902  -73.94190   \n",
       "3     4869            Brooklyn  Clinton Hill  40.68514  -73.95976   \n",
       "4     7192           Manhattan   East Harlem  40.79851  -73.94399   \n",
       "\n",
       "         room_type  price  minimum_nights  number_of_reviews  \\\n",
       "0     Private room    149               1                  9   \n",
       "1  Entire home/apt    225               1                 45   \n",
       "2     Private room    150               3                  0   \n",
       "3  Entire home/apt     89               1                270   \n",
       "4  Entire home/apt     80              10                  9   \n",
       "\n",
       "   reviews_per_month  calculated_host_listings_count  availability_365  \n",
       "0               0.21                               6               365  \n",
       "1               0.38                               2               355  \n",
       "2               0.00                               1               365  \n",
       "3               4.64                               1               194  \n",
       "4               0.10                               1                 0  "
      ]
     },
     "execution_count": 14,
     "metadata": {},
     "output_type": "execute_result"
    }
   ],
   "source": [
    "minoH_data.head(5)"
   ]
  },
  {
   "cell_type": "code",
   "execution_count": 15,
   "metadata": {
    "colab": {
     "base_uri": "https://localhost:8080/",
     "height": 364
    },
    "executionInfo": {
     "elapsed": 43,
     "status": "ok",
     "timestamp": 1658859224121,
     "user": {
      "displayName": "Gyabeng Elton Modestus",
      "userId": "12447059696211325427"
     },
     "user_tz": 0
    },
    "id": "IjEJj1FcYv0i",
    "outputId": "abb83bf9-40dc-4415-87ff-b3ac5476bd48"
   },
   "outputs": [
    {
     "data": {
      "text/html": [
       "<div>\n",
       "<style scoped>\n",
       "    .dataframe tbody tr th:only-of-type {\n",
       "        vertical-align: middle;\n",
       "    }\n",
       "\n",
       "    .dataframe tbody tr th {\n",
       "        vertical-align: top;\n",
       "    }\n",
       "\n",
       "    .dataframe thead th {\n",
       "        text-align: right;\n",
       "    }\n",
       "</style>\n",
       "<table border=\"1\" class=\"dataframe\">\n",
       "  <thead>\n",
       "    <tr style=\"text-align: right;\">\n",
       "      <th></th>\n",
       "      <th>host_id</th>\n",
       "      <th>latitude</th>\n",
       "      <th>longitude</th>\n",
       "      <th>price</th>\n",
       "      <th>minimum_nights</th>\n",
       "      <th>number_of_reviews</th>\n",
       "      <th>reviews_per_month</th>\n",
       "      <th>calculated_host_listings_count</th>\n",
       "      <th>availability_365</th>\n",
       "    </tr>\n",
       "  </thead>\n",
       "  <tbody>\n",
       "    <tr>\n",
       "      <th>count</th>\n",
       "      <td>4.889500e+04</td>\n",
       "      <td>48895.000000</td>\n",
       "      <td>48895.000000</td>\n",
       "      <td>48895.000000</td>\n",
       "      <td>48895.000000</td>\n",
       "      <td>48895.000000</td>\n",
       "      <td>48895.000000</td>\n",
       "      <td>48895.000000</td>\n",
       "      <td>48895.000000</td>\n",
       "    </tr>\n",
       "    <tr>\n",
       "      <th>mean</th>\n",
       "      <td>6.762001e+07</td>\n",
       "      <td>40.728949</td>\n",
       "      <td>-73.952170</td>\n",
       "      <td>152.720687</td>\n",
       "      <td>7.029962</td>\n",
       "      <td>23.274466</td>\n",
       "      <td>1.090910</td>\n",
       "      <td>7.143982</td>\n",
       "      <td>112.781327</td>\n",
       "    </tr>\n",
       "    <tr>\n",
       "      <th>std</th>\n",
       "      <td>7.861097e+07</td>\n",
       "      <td>0.054530</td>\n",
       "      <td>0.046157</td>\n",
       "      <td>240.154170</td>\n",
       "      <td>20.510550</td>\n",
       "      <td>44.550582</td>\n",
       "      <td>1.597283</td>\n",
       "      <td>32.952519</td>\n",
       "      <td>131.622289</td>\n",
       "    </tr>\n",
       "    <tr>\n",
       "      <th>min</th>\n",
       "      <td>2.438000e+03</td>\n",
       "      <td>40.499790</td>\n",
       "      <td>-74.244420</td>\n",
       "      <td>0.000000</td>\n",
       "      <td>1.000000</td>\n",
       "      <td>0.000000</td>\n",
       "      <td>0.000000</td>\n",
       "      <td>1.000000</td>\n",
       "      <td>0.000000</td>\n",
       "    </tr>\n",
       "    <tr>\n",
       "      <th>25%</th>\n",
       "      <td>7.822033e+06</td>\n",
       "      <td>40.690100</td>\n",
       "      <td>-73.983070</td>\n",
       "      <td>69.000000</td>\n",
       "      <td>1.000000</td>\n",
       "      <td>1.000000</td>\n",
       "      <td>0.040000</td>\n",
       "      <td>1.000000</td>\n",
       "      <td>0.000000</td>\n",
       "    </tr>\n",
       "    <tr>\n",
       "      <th>50%</th>\n",
       "      <td>3.079382e+07</td>\n",
       "      <td>40.723070</td>\n",
       "      <td>-73.955680</td>\n",
       "      <td>106.000000</td>\n",
       "      <td>3.000000</td>\n",
       "      <td>5.000000</td>\n",
       "      <td>0.370000</td>\n",
       "      <td>1.000000</td>\n",
       "      <td>45.000000</td>\n",
       "    </tr>\n",
       "    <tr>\n",
       "      <th>75%</th>\n",
       "      <td>1.074344e+08</td>\n",
       "      <td>40.763115</td>\n",
       "      <td>-73.936275</td>\n",
       "      <td>175.000000</td>\n",
       "      <td>5.000000</td>\n",
       "      <td>24.000000</td>\n",
       "      <td>1.580000</td>\n",
       "      <td>2.000000</td>\n",
       "      <td>227.000000</td>\n",
       "    </tr>\n",
       "    <tr>\n",
       "      <th>max</th>\n",
       "      <td>2.743213e+08</td>\n",
       "      <td>40.913060</td>\n",
       "      <td>-73.712990</td>\n",
       "      <td>10000.000000</td>\n",
       "      <td>1250.000000</td>\n",
       "      <td>629.000000</td>\n",
       "      <td>58.500000</td>\n",
       "      <td>327.000000</td>\n",
       "      <td>365.000000</td>\n",
       "    </tr>\n",
       "  </tbody>\n",
       "</table>\n",
       "</div>"
      ],
      "text/plain": [
       "            host_id      latitude     longitude         price  minimum_nights  \\\n",
       "count  4.889500e+04  48895.000000  48895.000000  48895.000000    48895.000000   \n",
       "mean   6.762001e+07     40.728949    -73.952170    152.720687        7.029962   \n",
       "std    7.861097e+07      0.054530      0.046157    240.154170       20.510550   \n",
       "min    2.438000e+03     40.499790    -74.244420      0.000000        1.000000   \n",
       "25%    7.822033e+06     40.690100    -73.983070     69.000000        1.000000   \n",
       "50%    3.079382e+07     40.723070    -73.955680    106.000000        3.000000   \n",
       "75%    1.074344e+08     40.763115    -73.936275    175.000000        5.000000   \n",
       "max    2.743213e+08     40.913060    -73.712990  10000.000000     1250.000000   \n",
       "\n",
       "       number_of_reviews  reviews_per_month  calculated_host_listings_count  \\\n",
       "count       48895.000000       48895.000000                    48895.000000   \n",
       "mean           23.274466           1.090910                        7.143982   \n",
       "std            44.550582           1.597283                       32.952519   \n",
       "min             0.000000           0.000000                        1.000000   \n",
       "25%             1.000000           0.040000                        1.000000   \n",
       "50%             5.000000           0.370000                        1.000000   \n",
       "75%            24.000000           1.580000                        2.000000   \n",
       "max           629.000000          58.500000                      327.000000   \n",
       "\n",
       "       availability_365  \n",
       "count      48895.000000  \n",
       "mean         112.781327  \n",
       "std          131.622289  \n",
       "min            0.000000  \n",
       "25%            0.000000  \n",
       "50%           45.000000  \n",
       "75%          227.000000  \n",
       "max          365.000000  "
      ]
     },
     "execution_count": 15,
     "metadata": {},
     "output_type": "execute_result"
    }
   ],
   "source": [
    "minoH_data.describe()"
   ]
  },
  {
   "cell_type": "markdown",
   "metadata": {
    "id": "A9Ica6oyd1G6"
   },
   "source": [
    "# Exploratory Data Analysis"
   ]
  },
  {
   "cell_type": "code",
   "execution_count": 16,
   "metadata": {
    "colab": {
     "base_uri": "https://localhost:8080/",
     "height": 352
    },
    "executionInfo": {
     "elapsed": 42,
     "status": "ok",
     "timestamp": 1658859224121,
     "user": {
      "displayName": "Gyabeng Elton Modestus",
      "userId": "12447059696211325427"
     },
     "user_tz": 0
    },
    "id": "NByWtCuD6-U_",
    "outputId": "882ee911-e6de-453c-dc63-31fd74e3c94e"
   },
   "outputs": [
    {
     "data": {
      "text/plain": [
       "<Axes: xlabel='neighbourhood_group', ylabel='count'>"
      ]
     },
     "execution_count": 16,
     "metadata": {},
     "output_type": "execute_result"
    },
    {
     "data": {
      "image/png": "[encoded data removed]",
      "text/plain": [
       "<Figure size 800x500 with 1 Axes>"
      ]
     },
     "metadata": {},
     "output_type": "display_data"
    }
   ],
   "source": [
    "# plot of all neighbourhood groups\n",
    "plt.figure(figsize=(8, 5))\n",
    "sb.countplot(x=minoH_data['neighbourhood_group'])"
   ]
  },
  {
   "cell_type": "markdown",
   "metadata": {
    "id": "2_V78HkgTP2x"
   },
   "source": [
    "This shows that the room sharing system is based in US with Manhattan and Brooklyn neighbourhood groups listed most in the dataset."
   ]
  },
  {
   "cell_type": "code",
   "execution_count": 17,
   "metadata": {
    "colab": {
     "base_uri": "https://localhost:8080/",
     "height": 352
    },
    "executionInfo": {
     "elapsed": 1337,
     "status": "ok",
     "timestamp": 1658859225421,
     "user": {
      "displayName": "Gyabeng Elton Modestus",
      "userId": "12447059696211325427"
     },
     "user_tz": 0
    },
    "id": "kOIqlX1C-CMK",
    "outputId": "9976b25a-cf60-47fb-dc2b-d4898b3cfc94"
   },
   "outputs": [
    {
     "data": {
      "text/plain": [
       "<Axes: xlabel='neighbourhood_group', ylabel='availability_365'>"
      ]
     },
     "execution_count": 17,
     "metadata": {},
     "output_type": "execute_result"
    },
    {
     "data": {
      "image/png": "[encoded data removed]",
      "text/plain": [
       "<Figure size 800x500 with 1 Axes>"
      ]
     },
     "metadata": {},
     "output_type": "display_data"
    }
   ],
   "source": [
    "# relation between neighbourhood_group and availability of rooms\n",
    "plt.figure(figsize=(8, 5))\n",
    "sb.boxplot(x='neighbourhood_group', y='availability_365', data=minoH_data)"
   ]
  },
  {
   "cell_type": "markdown",
   "metadata": {
    "id": "ZwCZuM19TxrE"
   },
   "source": [
    "Even though Queens, Staten Island and Bronx neighbourhood groups have less listings, the number of days the listings are available are considerably higher as compared to Brooklyn and Manhattan."
   ]
  },
  {
   "cell_type": "code",
   "execution_count": 18,
   "metadata": {
    "colab": {
     "base_uri": "https://localhost:8080/",
     "height": 351
    },
    "executionInfo": {
     "elapsed": 30,
     "status": "ok",
     "timestamp": 1658859225423,
     "user": {
      "displayName": "Gyabeng Elton Modestus",
      "userId": "12447059696211325427"
     },
     "user_tz": 0
    },
    "id": "GZ_2bc2HN0Me",
    "outputId": "24ec2bb8-037f-459f-d05e-50c64655556e"
   },
   "outputs": [
    {
     "data": {
      "text/plain": [
       "<Axes: xlabel='room_type', ylabel='price'>"
      ]
     },
     "execution_count": 18,
     "metadata": {},
     "output_type": "execute_result"
    },
    {
     "data": {
      "image/png": "[encoded data removed]",
      "text/plain": [
       "<Figure size 800x500 with 1 Axes>"
      ]
     },
     "metadata": {},
     "output_type": "display_data"
    }
   ],
   "source": [
    "# relation between price and room type\n",
    "plt.figure(figsize=(8, 5))\n",
    "sb.scatterplot(x='room_type', y='price', data=minoH_data)"
   ]
  },
  {
   "cell_type": "markdown",
   "metadata": {
    "id": "EhAdA2aCSSOO"
   },
   "source": [
    "Shared room price is always less than $2000 whereas private rooms and entire homes have the highest prices in some."
   ]
  },
  {
   "cell_type": "code",
   "execution_count": 19,
   "metadata": {
    "colab": {
     "base_uri": "https://localhost:8080/"
    },
    "executionInfo": {
     "elapsed": 20,
     "status": "ok",
     "timestamp": 1658859225425,
     "user": {
      "displayName": "Gyabeng Elton Modestus",
      "userId": "12447059696211325427"
     },
     "user_tz": 0
    },
    "id": "LWohjErDWcWc",
    "outputId": "b2908032-f064-4ae4-ae2a-0944f0a9f782"
   },
   "outputs": [
    {
     "name": "stdout",
     "output_type": "stream",
     "text": [
      "<class 'pandas.core.frame.DataFrame'>\n",
      "RangeIndex: 48895 entries, 0 to 48894\n",
      "Data columns (total 12 columns):\n",
      " #   Column                          Non-Null Count  Dtype  \n",
      "---  ------                          --------------  -----  \n",
      " 0   host_id                         48895 non-null  int64  \n",
      " 1   neighbourhood_group             48895 non-null  int8   \n",
      " 2   neighbourhood                   48895 non-null  int16  \n",
      " 3   latitude                        48895 non-null  float64\n",
      " 4   longitude                       48895 non-null  float64\n",
      " 5   room_type                       48895 non-null  int8   \n",
      " 6   price                           48895 non-null  int64  \n",
      " 7   minimum_nights                  48895 non-null  int64  \n",
      " 8   number_of_reviews               48895 non-null  int64  \n",
      " 9   reviews_per_month               48895 non-null  float64\n",
      " 10  calculated_host_listings_count  48895 non-null  int64  \n",
      " 11  availability_365                48895 non-null  int64  \n",
      "dtypes: float64(3), int16(1), int64(6), int8(2)\n",
      "memory usage: 3.5 MB\n"
     ]
    }
   ],
   "source": [
    "# mapping of categorical variables for easier analysis\n",
    "for column in ['neighbourhood_group','neighbourhood','room_type']:\n",
    "  minoH_data[column]= minoH_data[column].astype(\"category\").cat.codes\n",
    "minoH_data.info() #review changes"
   ]
  },
  {
   "cell_type": "markdown",
   "metadata": {
    "id": "qQ_KzLnL75yq"
   },
   "source": [
    "# EDA with focus on price\n",
    "\n",
    "Upon analysis, it would be impractical to build a recommender system to recommend listings for various users from this dataset since the dataset contains no information about users, their preferences, their individual ratings of the listings or even their comments for individual stays. But further analysis could be made between features of individual listing and their prices and this can be used to predict listings prices and fair price ranges could be recommended for the hosts when putting their listings on the system."
   ]
  },
  {
   "cell_type": "code",
   "execution_count": 20,
   "metadata": {
    "colab": {
     "base_uri": "https://localhost:8080/",
     "height": 514
    },
    "executionInfo": {
     "elapsed": 3329,
     "status": "ok",
     "timestamp": 1658859228738,
     "user": {
      "displayName": "Gyabeng Elton Modestus",
      "userId": "12447059696211325427"
     },
     "user_tz": 0
    },
    "id": "8TYUX6p1_oqw",
    "outputId": "3ab96d0d-1035-4fa8-8e07-8b6131d1cdb4"
   },
   "outputs": [
    {
     "data": {
      "text/plain": [
       "<Axes: xlabel='price', ylabel='Count'>"
      ]
     },
     "execution_count": 20,
     "metadata": {},
     "output_type": "execute_result"
    },
    {
     "data": {
      "image/png": "[encoded data removed]",
      "text/plain": [
       "<Figure size 1000x800 with 1 Axes>"
      ]
     },
     "metadata": {},
     "output_type": "display_data"
    }
   ],
   "source": [
    "#price distribution plot\n",
    "plt.figure(figsize=(10,8))\n",
    "sb.histplot(data=minoH_data, x='price')"
   ]
  },
  {
   "cell_type": "markdown",
   "metadata": {
    "id": "hDwnAIIYEHqU"
   },
   "source": [
    "There is positive skewness in price and so *log+1* transformation will be used."
   ]
  },
  {
   "cell_type": "code",
   "execution_count": 21,
   "metadata": {
    "colab": {
     "base_uri": "https://localhost:8080/",
     "height": 542
    },
    "executionInfo": {
     "elapsed": 58,
     "status": "ok",
     "timestamp": 1658859228741,
     "user": {
      "displayName": "Gyabeng Elton Modestus",
      "userId": "12447059696211325427"
     },
     "user_tz": 0
    },
    "id": "6G9jDweAE2TF",
    "outputId": "144d2ad0-1401-4856-fd60-c06d106adf38"
   },
   "outputs": [
    {
     "data": {
      "text/plain": [
       "<Axes: xlabel='price_log', ylabel='Count'>"
      ]
     },
     "execution_count": 21,
     "metadata": {},
     "output_type": "execute_result"
    },
    {
     "data": {
      "image/png": "[encoded data removed]",
      "text/plain": [
       "<Figure size 1200x1000 with 1 Axes>"
      ]
     },
     "metadata": {},
     "output_type": "display_data"
    }
   ],
   "source": [
    "minoH_data['price_log']= np.log(minoH_data.price+1)\n",
    "plt.figure(figsize=(12,10))\n",
    "sb.histplot(data=minoH_data,x='price_log')"
   ]
  },
  {
   "cell_type": "code",
   "execution_count": 22,
   "metadata": {
    "colab": {
     "base_uri": "https://localhost:8080/",
     "height": 513
    },
    "executionInfo": {
     "elapsed": 36,
     "status": "ok",
     "timestamp": 1658859228742,
     "user": {
      "displayName": "Gyabeng Elton Modestus",
      "userId": "12447059696211325427"
     },
     "user_tz": 0
    },
    "id": "q8-flM0JIW1A",
    "outputId": "98730449-d7f9-4a2a-c6aa-7c459a78f9ee"
   },
   "outputs": [
    {
     "data": {
      "image/png": "[encoded data removed]",
      "text/plain": [
       "<Figure size 1000x800 with 1 Axes>"
      ]
     },
     "metadata": {},
     "output_type": "display_data"
    }
   ],
   "source": [
    "from scipy import stats\n",
    "\n",
    "plt.figure(figsize=(10,8))\n",
    "stats.probplot(minoH_data['price_log'], plot=plt)\n",
    "plt.show()"
   ]
  },
  {
   "cell_type": "markdown",
   "metadata": {
    "id": "HMpA7YFiLIEW"
   },
   "source": [
    "This shows that normality is a reasonable approximation"
   ]
  },
  {
   "cell_type": "code",
   "execution_count": 23,
   "metadata": {
    "colab": {
     "base_uri": "https://localhost:8080/",
     "height": 270
    },
    "executionInfo": {
     "elapsed": 33,
     "status": "ok",
     "timestamp": 1658859228743,
     "user": {
      "displayName": "Gyabeng Elton Modestus",
      "userId": "12447059696211325427"
     },
     "user_tz": 0
    },
    "id": "VBTaYF72Lmt0",
    "outputId": "65e8b1f8-a943-4b3e-fd63-f8b0ba5e2349"
   },
   "outputs": [
    {
     "data": {
      "text/html": [
       "<div>\n",
       "<style scoped>\n",
       "    .dataframe tbody tr th:only-of-type {\n",
       "        vertical-align: middle;\n",
       "    }\n",
       "\n",
       "    .dataframe tbody tr th {\n",
       "        vertical-align: top;\n",
       "    }\n",
       "\n",
       "    .dataframe thead th {\n",
       "        text-align: right;\n",
       "    }\n",
       "</style>\n",
       "<table border=\"1\" class=\"dataframe\">\n",
       "  <thead>\n",
       "    <tr style=\"text-align: right;\">\n",
       "      <th></th>\n",
       "      <th>host_id</th>\n",
       "      <th>neighbourhood_group</th>\n",
       "      <th>neighbourhood</th>\n",
       "      <th>latitude</th>\n",
       "      <th>longitude</th>\n",
       "      <th>room_type</th>\n",
       "      <th>minimum_nights</th>\n",
       "      <th>number_of_reviews</th>\n",
       "      <th>reviews_per_month</th>\n",
       "      <th>calculated_host_listings_count</th>\n",
       "      <th>availability_365</th>\n",
       "      <th>price_log</th>\n",
       "    </tr>\n",
       "  </thead>\n",
       "  <tbody>\n",
       "    <tr>\n",
       "      <th>0</th>\n",
       "      <td>2787</td>\n",
       "      <td>1</td>\n",
       "      <td>108</td>\n",
       "      <td>40.64749</td>\n",
       "      <td>-73.97237</td>\n",
       "      <td>1</td>\n",
       "      <td>1</td>\n",
       "      <td>9</td>\n",
       "      <td>0.21</td>\n",
       "      <td>6</td>\n",
       "      <td>365</td>\n",
       "      <td>5.010635</td>\n",
       "    </tr>\n",
       "    <tr>\n",
       "      <th>1</th>\n",
       "      <td>2845</td>\n",
       "      <td>2</td>\n",
       "      <td>127</td>\n",
       "      <td>40.75362</td>\n",
       "      <td>-73.98377</td>\n",
       "      <td>0</td>\n",
       "      <td>1</td>\n",
       "      <td>45</td>\n",
       "      <td>0.38</td>\n",
       "      <td>2</td>\n",
       "      <td>355</td>\n",
       "      <td>5.420535</td>\n",
       "    </tr>\n",
       "    <tr>\n",
       "      <th>2</th>\n",
       "      <td>4632</td>\n",
       "      <td>2</td>\n",
       "      <td>94</td>\n",
       "      <td>40.80902</td>\n",
       "      <td>-73.94190</td>\n",
       "      <td>1</td>\n",
       "      <td>3</td>\n",
       "      <td>0</td>\n",
       "      <td>0.00</td>\n",
       "      <td>1</td>\n",
       "      <td>365</td>\n",
       "      <td>5.017280</td>\n",
       "    </tr>\n",
       "    <tr>\n",
       "      <th>3</th>\n",
       "      <td>4869</td>\n",
       "      <td>1</td>\n",
       "      <td>41</td>\n",
       "      <td>40.68514</td>\n",
       "      <td>-73.95976</td>\n",
       "      <td>0</td>\n",
       "      <td>1</td>\n",
       "      <td>270</td>\n",
       "      <td>4.64</td>\n",
       "      <td>1</td>\n",
       "      <td>194</td>\n",
       "      <td>4.499810</td>\n",
       "    </tr>\n",
       "    <tr>\n",
       "      <th>4</th>\n",
       "      <td>7192</td>\n",
       "      <td>2</td>\n",
       "      <td>61</td>\n",
       "      <td>40.79851</td>\n",
       "      <td>-73.94399</td>\n",
       "      <td>0</td>\n",
       "      <td>10</td>\n",
       "      <td>9</td>\n",
       "      <td>0.10</td>\n",
       "      <td>1</td>\n",
       "      <td>0</td>\n",
       "      <td>4.394449</td>\n",
       "    </tr>\n",
       "  </tbody>\n",
       "</table>\n",
       "</div>"
      ],
      "text/plain": [
       "   host_id  neighbourhood_group  neighbourhood  latitude  longitude  \\\n",
       "0     2787                    1            108  40.64749  -73.97237   \n",
       "1     2845                    2            127  40.75362  -73.98377   \n",
       "2     4632                    2             94  40.80902  -73.94190   \n",
       "3     4869                    1             41  40.68514  -73.95976   \n",
       "4     7192                    2             61  40.79851  -73.94399   \n",
       "\n",
       "   room_type  minimum_nights  number_of_reviews  reviews_per_month  \\\n",
       "0          1               1                  9               0.21   \n",
       "1          0               1                 45               0.38   \n",
       "2          1               3                  0               0.00   \n",
       "3          0               1                270               4.64   \n",
       "4          0              10                  9               0.10   \n",
       "\n",
       "   calculated_host_listings_count  availability_365  price_log  \n",
       "0                               6               365   5.010635  \n",
       "1                               2               355   5.420535  \n",
       "2                               1               365   5.017280  \n",
       "3                               1               194   4.499810  \n",
       "4                               1                 0   4.394449  "
      ]
     },
     "execution_count": 23,
     "metadata": {},
     "output_type": "execute_result"
    }
   ],
   "source": [
    "minoH_data.drop(['price'], axis=1, inplace=True)\n",
    "minoH_data.head(5)"
   ]
  },
  {
   "cell_type": "code",
   "execution_count": 24,
   "metadata": {
    "colab": {
     "base_uri": "https://localhost:8080/"
    },
    "executionInfo": {
     "elapsed": 31,
     "status": "ok",
     "timestamp": 1658859228744,
     "user": {
      "displayName": "Gyabeng Elton Modestus",
      "userId": "12447059696211325427"
     },
     "user_tz": 0
    },
    "id": "bo1iScwQMlR0",
    "outputId": "8979e037-3cbb-4c07-cdec-dc2f39e689c7"
   },
   "outputs": [
    {
     "data": {
      "text/plain": [
       "host_id                           0\n",
       "neighbourhood_group               0\n",
       "neighbourhood                     0\n",
       "latitude                          0\n",
       "longitude                         0\n",
       "room_type                         0\n",
       "minimum_nights                    0\n",
       "number_of_reviews                 0\n",
       "reviews_per_month                 0\n",
       "calculated_host_listings_count    0\n",
       "availability_365                  0\n",
       "price_log                         0\n",
       "dtype: int64"
      ]
     },
     "execution_count": 24,
     "metadata": {},
     "output_type": "execute_result"
    }
   ],
   "source": [
    "minoH_data.isnull().sum()"
   ]
  },
  {
   "cell_type": "code",
   "execution_count": 25,
   "metadata": {
    "colab": {
     "base_uri": "https://localhost:8080/",
     "height": 515
    },
    "executionInfo": {
     "elapsed": 2016,
     "status": "ok",
     "timestamp": 1658859230733,
     "user": {
      "displayName": "Gyabeng Elton Modestus",
      "userId": "12447059696211325427"
     },
     "user_tz": 0
    },
    "id": "zRMlQGJAxPPK",
    "outputId": "a1962f0f-153a-470c-dd2e-d1bb2214ea6d"
   },
   "outputs": [
    {
     "data": {
      "text/plain": [
       "Index(['host_id', 'neighbourhood_group', 'neighbourhood', 'latitude',\n",
       "       'longitude', 'room_type', 'minimum_nights', 'number_of_reviews',\n",
       "       'reviews_per_month', 'calculated_host_listings_count',\n",
       "       'availability_365', 'price_log'],\n",
       "      dtype='object')"
      ]
     },
     "execution_count": 25,
     "metadata": {},
     "output_type": "execute_result"
    },
    {
     "data": {
      "image/png": "[encoded data removed]",
      "text/plain": [
       "<Figure size 1500x800 with 2 Axes>"
      ]
     },
     "metadata": {},
     "output_type": "display_data"
    }
   ],
   "source": [
    "#Correlation between different variables\n",
    "correlation = minoH_data.corr(method = 'kendall')\n",
    "plt.figure(figsize=(15,8))\n",
    "sb.heatmap(correlation, annot=True)\n",
    "minoH_data.columns"
   ]
  },
  {
   "cell_type": "markdown",
   "metadata": {
    "id": "3oHmYhxvQ2mK"
   },
   "source": [
    "No other feature will be dropped from the data since there is no strong relationship between price and features."
   ]
  },
  {
   "cell_type": "code",
   "execution_count": 26,
   "metadata": {
    "colab": {
     "base_uri": "https://localhost:8080/"
    },
    "executionInfo": {
     "elapsed": 33,
     "status": "ok",
     "timestamp": 1658859230733,
     "user": {
      "displayName": "Gyabeng Elton Modestus",
      "userId": "12447059696211325427"
     },
     "user_tz": 0
    },
    "id": "d_WD-padPJDc",
    "outputId": "bd3d6060-8bd0-4124-afa6-217dfda8505a"
   },
   "outputs": [
    {
     "data": {
      "text/plain": [
       "array([2.03969686, 1.7368288 , 1.52196066, 1.28712585, 0.28506069,\n",
       "       0.39507985, 1.01836876, 0.56307261, 0.61809606, 0.76548583,\n",
       "       0.84633843, 0.92288561])"
      ]
     },
     "execution_count": 26,
     "metadata": {},
     "output_type": "execute_result"
    }
   ],
   "source": [
    "#test for multicollinearity of data\n",
    "multicollinearity, V=np.linalg.eig(correlation)\n",
    "multicollinearity"
   ]
  },
  {
   "cell_type": "markdown",
   "metadata": {
    "id": "ENmsZJNSPuSx"
   },
   "source": [
    "No multicollinearity exists in data since non of the eigenvalues of the correlation matrix is close to zero. This means that no input variable should be eliminated from the model"
   ]
  },
  {
   "cell_type": "markdown",
   "metadata": {
    "id": "UAzaEE0LR-Jp"
   },
   "source": [
    "# Feature Scaling and Mean Normalization"
   ]
  },
  {
   "cell_type": "code",
   "execution_count": 27,
   "metadata": {
    "id": "13TcwJn0Vtaz"
   },
   "outputs": [],
   "source": [
    "minoH_data_x = minoH_data.iloc[:,:-1]\n",
    "minoH_data_y  = minoH_data.iloc[:,-1]"
   ]
  },
  {
   "cell_type": "code",
   "execution_count": 28,
   "metadata": {
    "id": "5VRVOluMYCbm"
   },
   "outputs": [],
   "source": [
    "from sklearn import preprocessing\n",
    "from sklearn.preprocessing import StandardScaler, PolynomialFeatures"
   ]
  },
  {
   "cell_type": "code",
   "execution_count": 29,
   "metadata": {
    "id": "NZIX2oycXW32"
   },
   "outputs": [],
   "source": [
    "#with normalization, gradient descent can converge more quickly\n",
    "scaler = StandardScaler()\n",
    "minoH_data_x = scaler.fit_transform(minoH_data_x)"
   ]
  },
  {
   "cell_type": "markdown",
   "metadata": {
    "id": "1rlilySqlM9t"
   },
   "source": [
    "# Building the model"
   ]
  },
  {
   "cell_type": "code",
   "execution_count": 30,
   "metadata": {
    "id": "9JeoObKcmliq"
   },
   "outputs": [],
   "source": [
    "from sklearn.model_selection import train_test_split, KFold, GridSearchCV"
   ]
  },
  {
   "cell_type": "code",
   "execution_count": 31,
   "metadata": {
    "id": "vXKKZWBYlu1V"
   },
   "outputs": [],
   "source": [
    "#train-test split\n",
    "#X_train, X_test, y_train, y_test = train_test_split(minoH_data_x, minoH_data_y, test_size=0.3, random_state=48)"
   ]
  },
  {
   "cell_type": "code",
   "execution_count": 32,
   "metadata": {
    "id": "UtH33T0Fr7wo"
   },
   "outputs": [],
   "source": [
    "kfold_cv=KFold() #defaults to 5 splits\n",
    "for train_index, test_index in kfold_cv.split(minoH_data_x, minoH_data_y):\n",
    "  X_train, X_test = minoH_data_x[train_index], minoH_data_x[test_index]\n",
    "  y_train, y_test = minoH_data_y[train_index], minoH_data_y[test_index]\n"
   ]
  },
  {
   "cell_type": "markdown",
   "metadata": {
    "id": "i5amXNTAw6Md"
   },
   "source": [
    "When input features do not have strong relationship to target variables as shown in the correlation matrix, underfitting can occur and this would be avoided with polynomial transformation since it's not possible to increase input feature data."
   ]
  },
  {
   "cell_type": "code",
   "execution_count": 33,
   "metadata": {
    "id": "VwRduGN-vAZw"
   },
   "outputs": [],
   "source": [
    "#may run after cross validation if metrics bad\n",
    "quad = PolynomialFeatures(interaction_only=True, include_bias=False)#default degree of 2\n",
    "X_train = quad.fit_transform(X_train)\n",
    "X_test = quad.fit_transform(X_test)"
   ]
  },
  {
   "cell_type": "code",
   "execution_count": 34,
   "metadata": {
    "id": "lE7NAkhnnbZ8"
   },
   "outputs": [],
   "source": [
    "from sklearn.linear_model import LinearRegression, Ridge, Lasso, ElasticNet"
   ]
  },
  {
   "cell_type": "markdown",
   "metadata": {
    "id": "mzq6B8oe0K5U"
   },
   "source": [
    "Model selection, hyperparameter tuning and predictions"
   ]
  },
  {
   "cell_type": "code",
   "execution_count": 35,
   "metadata": {
    "id": "zzru3RRP0glh"
   },
   "outputs": [],
   "source": [
    "# Ordinary Least Squares\n",
    "def linear_regression(input_x, input_y, cv=5):\n",
    "  model = LinearRegression()\n",
    "  parameters = {\n",
    "      'fit_intercept':[True,False],\n",
    "      #'normalize':[True,False],\n",
    "      'copy_X':[True,False]\n",
    "  }\n",
    "\n",
    "  grid_search = GridSearchCV(\n",
    "      estimator=model,\n",
    "      param_grid=parameters,\n",
    "      scoring='neg_mean_squared_error',\n",
    "      n_jobs=-1,\n",
    "      cv=cv\n",
    "  )\n",
    "\n",
    "  grid_search.fit(input_x, input_y)\n",
    "  print('Best parameters: ',grid_search.best_params_)\n",
    "  print('Best -MSE: ',grid_search.best_score_)\n"
   ]
  },
  {
   "cell_type": "code",
   "execution_count": 36,
   "metadata": {
    "id": "CCibwg_b_ISQ"
   },
   "outputs": [],
   "source": [
    "# Ridge regression\n",
    "def ridge_regression(input_x, input_y, cv=5):\n",
    "  model = Ridge()\n",
    "  alphas = np.array([1,0.1,0.01,0.001,0.0001,0])#regularization param\n",
    "  #normalizes=([True,False])\n",
    "\n",
    "  grid_search = GridSearchCV(\n",
    "      estimator=model,\n",
    "      param_grid = (dict(alpha=alphas)),\n",
    "      scoring= 'neg_mean_squared_error',\n",
    "      n_jobs=-1,\n",
    "      cv=cv\n",
    "  )\n",
    "\n",
    "  grid_search.fit(input_x,input_y)\n",
    "  print('Best parameters: ',grid_search.best_params_)\n",
    "  print('Best -MSE: ',grid_search.best_score_)\n",
    "\n"
   ]
  },
  {
   "cell_type": "code",
   "execution_count": 37,
   "metadata": {
    "id": "wrpU4LCVH0kl"
   },
   "outputs": [],
   "source": [
    "# Lasso regression\n",
    "def lasso_regression(input_x, input_y, cv=5):\n",
    "  model = Lasso()\n",
    "  alphas = np.array([1,0.1,0.01,0.001,0.0001,0])#regularization param\n",
    "  #normalizes=([True,False])\n",
    "\n",
    "  grid_search = GridSearchCV(\n",
    "      estimator=model,\n",
    "      param_grid = (dict(alpha=alphas)),\n",
    "      scoring= 'neg_mean_squared_error',\n",
    "      n_jobs=-1,\n",
    "      cv=cv\n",
    "  )\n",
    "\n",
    "  grid_search.fit(input_x,input_y)\n",
    "  print('Best parameters: ',grid_search.best_params_)\n",
    "  print('Best -MSE: ',grid_search.best_score_)\n",
    "  "
   ]
  },
  {
   "cell_type": "code",
   "execution_count": 38,
   "metadata": {
    "id": "xc26dHqlIdVI"
   },
   "outputs": [],
   "source": [
    "# ElasticNet regression\n",
    "def elastic_regression(input_x, input_y, cv=5):\n",
    "  model = ElasticNet()\n",
    "  alphas = np.array([1,0.1,0.01,0.001,0.0001,0])#regularization param\n",
    "  #ormalizes=([True,False])\n",
    "\n",
    "  grid_search = GridSearchCV(\n",
    "      estimator=model,\n",
    "      param_grid = (dict(alpha=alphas)),\n",
    "      scoring= 'neg_mean_squared_error',\n",
    "      n_jobs=-1,\n",
    "      cv=cv\n",
    "  )\n",
    "\n",
    "  grid_search.fit(input_x,input_y)\n",
    "  print('Best parameters: ',grid_search.best_params_)\n",
    "  print('Best -MSE: ',grid_search.best_score_)\n",
    "  "
   ]
  },
  {
   "cell_type": "code",
   "execution_count": 39,
   "metadata": {
    "colab": {
     "base_uri": "https://localhost:8080/"
    },
    "executionInfo": {
     "elapsed": 1814,
     "status": "ok",
     "timestamp": 1658859232533,
     "user": {
      "displayName": "Gyabeng Elton Modestus",
      "userId": "12447059696211325427"
     },
     "user_tz": 0
    },
    "id": "_OUwfBt1K1iz",
    "outputId": "39a6f4a7-9728-4030-86a1-8252d2728c22"
   },
   "outputs": [
    {
     "name": "stdout",
     "output_type": "stream",
     "text": [
      "Best parameters:  {'copy_X': True, 'fit_intercept': True}\n",
      "Best -MSE:  -0.2411922523340023\n"
     ]
    }
   ],
   "source": [
    "linear_regression(X_train, y_train)"
   ]
  },
  {
   "cell_type": "code",
   "execution_count": 40,
   "metadata": {
    "id": "VAP00QypoOZh"
   },
   "outputs": [],
   "source": [
    "#Ordinary Least Square\n",
    "least_square_model = LinearRegression(\n",
    "    copy_X= True,\n",
    "    fit_intercept= True\n",
    ")\n",
    "least_square_model.fit(X_train, y_train)\n",
    "least_square_prediction= least_square_model.predict(X_test)"
   ]
  },
  {
   "cell_type": "code",
   "execution_count": 41,
   "metadata": {
    "colab": {
     "base_uri": "https://localhost:8080/"
    },
    "executionInfo": {
     "elapsed": 7,
     "status": "ok",
     "timestamp": 1658859233962,
     "user": {
      "displayName": "Gyabeng Elton Modestus",
      "userId": "12447059696211325427"
     },
     "user_tz": 0
    },
    "id": "epeJ3twOSRC2",
    "outputId": "ad4de346-0f70-46d2-8915-1ee270c1ba58"
   },
   "outputs": [
    {
     "name": "stdout",
     "output_type": "stream",
     "text": [
      "Best parameters:  {'alpha': 1.0}\n",
      "Best -MSE:  -0.24117647971752465\n"
     ]
    }
   ],
   "source": [
    "ridge_regression(X_train, y_train)"
   ]
  },
  {
   "cell_type": "code",
   "execution_count": 42,
   "metadata": {
    "id": "FBoQO7rLqaoQ"
   },
   "outputs": [],
   "source": [
    "#ridge regression\n",
    "ridge_regression_model = Ridge(alpha=1.0)\n",
    "ridge_regression_model.fit(X_train, y_train)\n",
    "ridge_regression_prediction = ridge_regression_model.predict(X_test)\n"
   ]
  },
  {
   "cell_type": "code",
   "execution_count": 43,
   "metadata": {
    "colab": {
     "base_uri": "https://localhost:8080/"
    },
    "executionInfo": {
     "elapsed": 11240,
     "status": "ok",
     "timestamp": 1658859245198,
     "user": {
      "displayName": "Gyabeng Elton Modestus",
      "userId": "12447059696211325427"
     },
     "user_tz": 0
    },
    "id": "RNBhac9fQxtC",
    "outputId": "940af69f-0e35-4e3d-d171-3dc9926e5400"
   },
   "outputs": [
    {
     "name": "stderr",
     "output_type": "stream",
     "text": [
      "/usr/lib/python3/dist-packages/sklearn/model_selection/_validation.py:531: UserWarning: With alpha=0, this algorithm does not converge well. You are advised to use the LinearRegression estimator\n",
      "  estimator.fit(X_train, y_train, **fit_params)\n",
      "/usr/lib/python3/dist-packages/sklearn/model_selection/_validation.py:531: UserWarning: With alpha=0, this algorithm does not converge well. You are advised to use the LinearRegression estimator\n",
      "  estimator.fit(X_train, y_train, **fit_params)\n",
      "/usr/lib/python3/dist-packages/sklearn/model_selection/_validation.py:531: UserWarning: With alpha=0, this algorithm does not converge well. You are advised to use the LinearRegression estimator\n",
      "  estimator.fit(X_train, y_train, **fit_params)\n",
      "/usr/lib/python3/dist-packages/sklearn/model_selection/_validation.py:531: UserWarning: With alpha=0, this algorithm does not converge well. You are advised to use the LinearRegression estimator\n",
      "  estimator.fit(X_train, y_train, **fit_params)\n",
      "/usr/lib/python3/dist-packages/sklearn/model_selection/_validation.py:531: UserWarning: With alpha=0, this algorithm does not converge well. You are advised to use the LinearRegression estimator\n",
      "  estimator.fit(X_train, y_train, **fit_params)\n",
      "/usr/lib/python3/dist-packages/sklearn/linear_model/_coordinate_descent.py:529: UserWarning: Coordinate descent with no regularization may lead to unexpected results and is discouraged.\n",
      "  model = cd_fast.enet_coordinate_descent(\n",
      "/usr/lib/python3/dist-packages/sklearn/linear_model/_coordinate_descent.py:529: UserWarning: Coordinate descent with no regularization may lead to unexpected results and is discouraged.\n",
      "  model = cd_fast.enet_coordinate_descent(\n",
      "/usr/lib/python3/dist-packages/sklearn/linear_model/_coordinate_descent.py:529: UserWarning: Coordinate descent with no regularization may lead to unexpected results and is discouraged.\n",
      "  model = cd_fast.enet_coordinate_descent(\n",
      "/usr/lib/python3/dist-packages/sklearn/linear_model/_coordinate_descent.py:529: UserWarning: Coordinate descent with no regularization may lead to unexpected results and is discouraged.\n",
      "  model = cd_fast.enet_coordinate_descent(\n",
      "/usr/lib/python3/dist-packages/sklearn/linear_model/_coordinate_descent.py:529: UserWarning: Coordinate descent with no regularization may lead to unexpected results and is discouraged.\n",
      "  model = cd_fast.enet_coordinate_descent(\n",
      "/usr/lib/python3/dist-packages/sklearn/linear_model/_coordinate_descent.py:529: ConvergenceWarning: Objective did not converge. You might want to increase the number of iterations. Duality gap: 3543.167905880887, tolerance: 1.3989744063311516\n",
      "  model = cd_fast.enet_coordinate_descent(\n",
      "/usr/lib/python3/dist-packages/sklearn/linear_model/_coordinate_descent.py:529: ConvergenceWarning: Objective did not converge. You might want to increase the number of iterations. Duality gap: 3677.3278226771513, tolerance: 1.4103403126481875\n",
      "  model = cd_fast.enet_coordinate_descent(\n"
     ]
    },
    {
     "name": "stdout",
     "output_type": "stream",
     "text": [
      "Best parameters:  {'alpha': 0.001}\n",
      "Best -MSE:  -0.24051423728110569\n"
     ]
    },
    {
     "name": "stderr",
     "output_type": "stream",
     "text": [
      "/usr/lib/python3/dist-packages/sklearn/linear_model/_coordinate_descent.py:529: ConvergenceWarning: Objective did not converge. You might want to increase the number of iterations. Duality gap: 3681.9544603822437, tolerance: 1.4449489784322809\n",
      "  model = cd_fast.enet_coordinate_descent(\n",
      "/usr/lib/python3/dist-packages/sklearn/linear_model/_coordinate_descent.py:529: ConvergenceWarning: Objective did not converge. You might want to increase the number of iterations. Duality gap: 3744.679409724935, tolerance: 1.4713313492139604\n",
      "  model = cd_fast.enet_coordinate_descent(\n",
      "/usr/lib/python3/dist-packages/sklearn/linear_model/_coordinate_descent.py:529: ConvergenceWarning: Objective did not converge. You might want to increase the number of iterations. Duality gap: 3631.985896839352, tolerance: 1.455988163657331\n",
      "  model = cd_fast.enet_coordinate_descent(\n"
     ]
    }
   ],
   "source": [
    "lasso_regression(X_train, y_train)"
   ]
  },
  {
   "cell_type": "code",
   "execution_count": 44,
   "metadata": {
    "id": "D8kZ0upVsJAF"
   },
   "outputs": [],
   "source": [
    "#lasso regression\n",
    "lasso_regression_model = Lasso(alpha=0.001)\n",
    "lasso_regression_model.fit(X_train, y_train)\n",
    "lasso_regression_prediction = lasso_regression_model.predict(X_test)"
   ]
  },
  {
   "cell_type": "code",
   "execution_count": 45,
   "metadata": {
    "colab": {
     "base_uri": "https://localhost:8080/"
    },
    "executionInfo": {
     "elapsed": 12446,
     "status": "ok",
     "timestamp": 1658859258267,
     "user": {
      "displayName": "Gyabeng Elton Modestus",
      "userId": "12447059696211325427"
     },
     "user_tz": 0
    },
    "id": "P9rm8m_3Sb1T",
    "outputId": "0ac76cc1-c04d-4e34-9584-86431f4f057e"
   },
   "outputs": [
    {
     "name": "stderr",
     "output_type": "stream",
     "text": [
      "/usr/lib/python3/dist-packages/sklearn/model_selection/_validation.py:531: UserWarning: With alpha=0, this algorithm does not converge well. You are advised to use the LinearRegression estimator\n",
      "  estimator.fit(X_train, y_train, **fit_params)\n",
      "/usr/lib/python3/dist-packages/sklearn/model_selection/_validation.py:531: UserWarning: With alpha=0, this algorithm does not converge well. You are advised to use the LinearRegression estimator\n",
      "  estimator.fit(X_train, y_train, **fit_params)\n",
      "/usr/lib/python3/dist-packages/sklearn/model_selection/_validation.py:531: UserWarning: With alpha=0, this algorithm does not converge well. You are advised to use the LinearRegression estimator\n",
      "  estimator.fit(X_train, y_train, **fit_params)\n",
      "/usr/lib/python3/dist-packages/sklearn/linear_model/_coordinate_descent.py:529: UserWarning: Coordinate descent with no regularization may lead to unexpected results and is discouraged.\n",
      "  model = cd_fast.enet_coordinate_descent(\n",
      "/usr/lib/python3/dist-packages/sklearn/model_selection/_validation.py:531: UserWarning: With alpha=0, this algorithm does not converge well. You are advised to use the LinearRegression estimator\n",
      "  estimator.fit(X_train, y_train, **fit_params)\n",
      "/usr/lib/python3/dist-packages/sklearn/linear_model/_coordinate_descent.py:529: UserWarning: Coordinate descent with no regularization may lead to unexpected results and is discouraged.\n",
      "  model = cd_fast.enet_coordinate_descent(\n",
      "/usr/lib/python3/dist-packages/sklearn/model_selection/_validation.py:531: UserWarning: With alpha=0, this algorithm does not converge well. You are advised to use the LinearRegression estimator\n",
      "  estimator.fit(X_train, y_train, **fit_params)\n",
      "/usr/lib/python3/dist-packages/sklearn/linear_model/_coordinate_descent.py:529: UserWarning: Coordinate descent with no regularization may lead to unexpected results and is discouraged.\n",
      "  model = cd_fast.enet_coordinate_descent(\n",
      "/usr/lib/python3/dist-packages/sklearn/linear_model/_coordinate_descent.py:529: UserWarning: Coordinate descent with no regularization may lead to unexpected results and is discouraged.\n",
      "  model = cd_fast.enet_coordinate_descent(\n",
      "/usr/lib/python3/dist-packages/sklearn/linear_model/_coordinate_descent.py:529: UserWarning: Coordinate descent with no regularization may lead to unexpected results and is discouraged.\n",
      "  model = cd_fast.enet_coordinate_descent(\n",
      "/usr/lib/python3/dist-packages/sklearn/linear_model/_coordinate_descent.py:529: ConvergenceWarning: Objective did not converge. You might want to increase the number of iterations. Duality gap: 3631.985896839352, tolerance: 1.455988163657331\n",
      "  model = cd_fast.enet_coordinate_descent(\n",
      "/usr/lib/python3/dist-packages/sklearn/linear_model/_coordinate_descent.py:529: ConvergenceWarning: Objective did not converge. You might want to increase the number of iterations. Duality gap: 3744.679409724935, tolerance: 1.4713313492139604\n",
      "  model = cd_fast.enet_coordinate_descent(\n",
      "/usr/lib/python3/dist-packages/sklearn/linear_model/_coordinate_descent.py:529: ConvergenceWarning: Objective did not converge. You might want to increase the number of iterations. Duality gap: 3543.167905880887, tolerance: 1.3989744063311516\n",
      "  model = cd_fast.enet_coordinate_descent(\n",
      "/usr/lib/python3/dist-packages/sklearn/linear_model/_coordinate_descent.py:529: ConvergenceWarning: Objective did not converge. You might want to increase the number of iterations. Duality gap: 3677.3278226771513, tolerance: 1.4103403126481875\n",
      "  model = cd_fast.enet_coordinate_descent(\n",
      "/usr/lib/python3/dist-packages/sklearn/linear_model/_coordinate_descent.py:529: ConvergenceWarning: Objective did not converge. You might want to increase the number of iterations. Duality gap: 3681.9544603822437, tolerance: 1.4449489784322809\n",
      "  model = cd_fast.enet_coordinate_descent(\n"
     ]
    },
    {
     "name": "stdout",
     "output_type": "stream",
     "text": [
      "Best parameters:  {'alpha': 0.001}\n",
      "Best -MSE:  -0.24011310094439886\n"
     ]
    }
   ],
   "source": [
    "elastic_regression(X_train, y_train)"
   ]
  },
  {
   "cell_type": "code",
   "execution_count": 46,
   "metadata": {
    "id": "sYy1gs_ktnAX"
   },
   "outputs": [],
   "source": [
    "#elastic regression\n",
    "elastic_regression_model = ElasticNet(alpha=0.001)\n",
    "elastic_regression_model.fit(X_train, y_train)\n",
    "elastic_regression_prediction = elastic_regression_model.predict(X_test)\n"
   ]
  },
  {
   "cell_type": "markdown",
   "metadata": {
    "id": "xyF5iQ93wm-m"
   },
   "source": [
    "# Model Evaluation and Comparison"
   ]
  },
  {
   "cell_type": "code",
   "execution_count": 47,
   "metadata": {
    "id": "R-wKIIDX8OhA"
   },
   "outputs": [],
   "source": [
    "from sklearn import metrics\n",
    "from sklearn.metrics import mean_squared_error, mean_absolute_error, r2_score\n",
    "#from math import sqrt"
   ]
  },
  {
   "cell_type": "code",
   "execution_count": 48,
   "metadata": {
    "colab": {
     "base_uri": "https://localhost:8080/"
    },
    "executionInfo": {
     "elapsed": 456,
     "status": "ok",
     "timestamp": 1658861119850,
     "user": {
      "displayName": "Gyabeng Elton Modestus",
      "userId": "12447059696211325427"
     },
     "user_tz": 0
    },
    "id": "O8QRsfH6xM4y",
    "outputId": "9cb4a143-8135-4e5f-f57d-cc2bac45beb1"
   },
   "outputs": [
    {
     "name": "stdout",
     "output_type": "stream",
     "text": [
      "-----------Linear Regression-----------\n",
      "MAE: 0.398406\n",
      "RMSE: 0.557496\n",
      "R2: 0.461284\n",
      "-----------Ridge Regression-----------\n",
      "MAE: 0.398319\n",
      "RMSE: 0.557375\n",
      "R2: 0.461518\n",
      "-----------Lasso Regression-----------\n",
      "MAE: 0.397236\n",
      "RMSE: 0.552797\n",
      "R2: 0.470328\n",
      "-----------ElasticNet Regression-----------\n",
      "MAE: 0.400618\n",
      "RMSE: 0.559982\n",
      "R2: 0.456468\n"
     ]
    }
   ],
   "source": [
    "print('-----------Linear Regression-----------')\n",
    "print('MAE: %f'%mean_absolute_error(\n",
    "    y_test, least_square_prediction\n",
    "))\n",
    "print('RMSE: %f'%np.sqrt(\n",
    "    mean_squared_error(y_test, least_square_prediction)\n",
    "))\n",
    "print('R2: %f'%r2_score(y_test, least_square_prediction))\n",
    "\n",
    "\n",
    "print('-----------Ridge Regression-----------')\n",
    "print('MAE: %f'%mean_absolute_error(\n",
    "    y_test, ridge_regression_prediction\n",
    "))\n",
    "print('RMSE: %f'%np.sqrt(\n",
    "    mean_squared_error(y_test, ridge_regression_prediction)\n",
    "))\n",
    "print('R2: %f'%r2_score(y_test, ridge_regression_prediction))\n",
    "\n",
    "\n",
    "print('-----------Lasso Regression-----------')\n",
    "print('MAE: %f'%mean_absolute_error(\n",
    "    y_test, lasso_regression_prediction\n",
    "))\n",
    "print('RMSE: %f'%np.sqrt(\n",
    "    mean_squared_error(y_test, lasso_regression_prediction)\n",
    "))\n",
    "print('R2: %f'%r2_score(y_test, lasso_regression_prediction))\n",
    "\n",
    "\n",
    "print('-----------ElasticNet Regression-----------')\n",
    "print('MAE: %f'%mean_absolute_error(\n",
    "    y_test, elastic_regression_prediction\n",
    "))\n",
    "print('RMSE: %f'%np.sqrt(\n",
    "    mean_squared_error(y_test, elastic_regression_prediction)\n",
    "))\n",
    "print('R2: %f'%r2_score(y_test, elastic_regression_prediction))"
   ]
  },
  {
   "cell_type": "markdown",
   "metadata": {
    "id": "1w-qt1KDuO7V"
   },
   "source": [
    "The models have similar prediction results but lasso is a bit better than all 4. The models in general have significant errors in their price predictions. Comparing the training and cross validation error howerver shows no bias or variance. This shows that pricing is not standardized and as such the input variables had no good correlation with the price variable.\n",
    "\n",
    "Other models could as well be built such clustering the price with other features using maybe K-means for example."
   ]
  }
 ],
 "metadata": {
  "colab": {
   "authorship_tag": "ABX9TyOIlfDmYsT3TBbcYVx90DS/",
   "collapsed_sections": [],
   "name": "minoHealthSkillTest.ipynb",
   "provenance": []
  },
  "kernelspec": {
   "display_name": "Python 3 (ipykernel)",
   "language": "python",
   "name": "python3"
  },
  "language_info": {
   "codemirror_mode": {
    "name": "ipython",
    "version": 3
   },
   "file_extension": ".py",
   "mimetype": "text/x-python",
   "name": "python",
   "nbconvert_exporter": "python",
   "pygments_lexer": "ipython3",
   "version": "3.10.12"
  }
 },
 "nbformat": 4,
 "nbformat_minor": 4
}
